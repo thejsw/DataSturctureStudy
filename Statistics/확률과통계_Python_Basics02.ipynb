{
  "nbformat": 4,
  "nbformat_minor": 0,
  "metadata": {
    "colab": {
      "provenance": [],
      "collapsed_sections": []
    },
    "kernelspec": {
      "name": "python3",
      "display_name": "Python 3"
    },
    "language_info": {
      "name": "python"
    }
  },
  "cells": [
    {
      "cell_type": "code",
      "execution_count": null,
      "metadata": {
        "colab": {
          "base_uri": "https://localhost:8080/"
        },
        "id": "IM5EsH8-7P2u",
        "outputId": "fc96c77c-9b2d-464b-e1fa-3675a9eaba4e"
      },
      "outputs": [
        {
          "output_type": "stream",
          "name": "stdout",
          "text": [
            "학업 장려 장학금을 수여 받을 수 있습니다\n"
          ]
        }
      ],
      "source": [
        "my_gpa = 3.5\n",
        "my_admission_year = 2017\n",
        "\n",
        "if (my_gpa > 4.0):\n",
        "  print(\"최우수 장학금을 받을 수 있습니다\")\n",
        "else:\n",
        "  print(\"학업 장려 장학금을 수여 받을 수 있습니다\")"
      ]
    },
    {
      "cell_type": "code",
      "source": [
        "if (my_gpa > 4.0):\n",
        "  print(\"최우수 장학금을 받을 수 있습니다\")\n",
        "elif not (my_gpa <= 2.0):\n",
        "  print(\"힘내요 장학금을 수여 받을 수 있습니다\")\n",
        "else:\n",
        "  print(\"학업 장려 장학금을 수여 받을 수 있습니다\")"
      ],
      "metadata": {
        "colab": {
          "base_uri": "https://localhost:8080/"
        },
        "id": "jAiPPf9t7ihE",
        "outputId": "6716d264-46bd-4794-b8d4-a4a6c10108f9"
      },
      "execution_count": null,
      "outputs": [
        {
          "output_type": "stream",
          "name": "stdout",
          "text": [
            "힘내요 장학금을 수여 받을 수 있습니다\n"
          ]
        }
      ]
    },
    {
      "cell_type": "code",
      "source": [
        "print(list(range(0, 10, 2)))"
      ],
      "metadata": {
        "colab": {
          "base_uri": "https://localhost:8080/"
        },
        "id": "RgkQEkHQ7qXJ",
        "outputId": "aa373d99-52c3-434b-9205-1b7411532ff4"
      },
      "execution_count": null,
      "outputs": [
        {
          "output_type": "stream",
          "name": "stdout",
          "text": [
            "[0, 2, 4, 6, 8]\n"
          ]
        }
      ]
    },
    {
      "cell_type": "code",
      "source": [
        "for x in range(0, 10):\n",
        "  print(x, end=\" \")\n",
        "  "
      ],
      "metadata": {
        "colab": {
          "base_uri": "https://localhost:8080/"
        },
        "id": "IBYFLjhn724f",
        "outputId": "285bcef9-6ce7-4dd1-d1e1-3b6520e65a21"
      },
      "execution_count": null,
      "outputs": [
        {
          "output_type": "stream",
          "name": "stdout",
          "text": [
            "0 1 2 3 4 5 6 7 8 9 "
          ]
        }
      ]
    },
    {
      "cell_type": "code",
      "source": [
        "homework_list = [\"Github 가입\", \"Python 설치\"]\n",
        "for item in homework_list:\n",
        "  print(item)"
      ],
      "metadata": {
        "colab": {
          "base_uri": "https://localhost:8080/"
        },
        "id": "9CIC4EOJ8Ii7",
        "outputId": "46805d25-90ba-45d1-bfd4-1f49b3b1dc9a"
      },
      "execution_count": null,
      "outputs": [
        {
          "output_type": "stream",
          "name": "stdout",
          "text": [
            "Github 가입\n",
            "Python 설치\n"
          ]
        }
      ]
    },
    {
      "cell_type": "code",
      "source": [
        "numbers = [[1,2,3], [10,20,30], [100,200,300]]\n",
        "for i in range(len(numbers)):\n",
        "  for j in range(len(numbers[i])):\n",
        "    print(numbers[i][j])"
      ],
      "metadata": {
        "colab": {
          "base_uri": "https://localhost:8080/"
        },
        "id": "PxRmFIx38Tdl",
        "outputId": "acdaa7d6-f9a2-42b5-8472-6f6ca32f4b01"
      },
      "execution_count": null,
      "outputs": [
        {
          "output_type": "stream",
          "name": "stdout",
          "text": [
            "1\n",
            "2\n",
            "3\n",
            "10\n",
            "20\n",
            "30\n",
            "100\n",
            "200\n",
            "300\n"
          ]
        }
      ]
    },
    {
      "cell_type": "code",
      "source": [
        "for x in range(0, 10):\n",
        "  if (x % 2):\n",
        "    continue\n",
        "  print(x, end=\" \")"
      ],
      "metadata": {
        "colab": {
          "base_uri": "https://localhost:8080/"
        },
        "id": "QPA4zVLK-stm",
        "outputId": "0f9e6d7f-a2e9-4c40-faed-d01214cc996e"
      },
      "execution_count": null,
      "outputs": [
        {
          "output_type": "stream",
          "name": "stdout",
          "text": [
            "0 2 4 6 8 "
          ]
        }
      ]
    },
    {
      "cell_type": "code",
      "source": [
        "def addnumber(number1, number2):\n",
        "  total = number1 + number2\n",
        "  return total\n",
        "print(addnumber(0, 1))"
      ],
      "metadata": {
        "colab": {
          "base_uri": "https://localhost:8080/"
        },
        "id": "iFUmDA1z-5Rz",
        "outputId": "3f8f7e51-ffbb-4342-c62b-12f0f5868ffa"
      },
      "execution_count": null,
      "outputs": [
        {
          "output_type": "stream",
          "name": "stdout",
          "text": [
            "1\n"
          ]
        }
      ]
    },
    {
      "cell_type": "code",
      "source": [
        "ssu_song = \"  이상을 우러르는 우리의 기상 저높은 백두산과 다름이 없고   \"\n",
        "print(ssu_song[-5:])"
      ],
      "metadata": {
        "colab": {
          "base_uri": "https://localhost:8080/"
        },
        "id": "wwD_4hCC_Uiz",
        "outputId": "81537de8-9243-4180-d39e-80a2ac48efdd"
      },
      "execution_count": null,
      "outputs": [
        {
          "output_type": "stream",
          "name": "stdout",
          "text": [
            "름이 없고\n"
          ]
        }
      ]
    },
    {
      "cell_type": "code",
      "source": [
        "name = \"조성원\"\n",
        "myclass = \"학생\"\n",
        "mystartyear = 2021\n",
        "print(\"나는 %s이고, 숭실대학교 %s입니다. %d년부터 숭실대학교에 다닙니다\" %(name, myclass, mystartyear))"
      ],
      "metadata": {
        "colab": {
          "base_uri": "https://localhost:8080/"
        },
        "id": "ds7IPr3T_cdG",
        "outputId": "afc6aca2-5f9d-4cd0-8e20-c617c7ec4f18"
      },
      "execution_count": null,
      "outputs": [
        {
          "output_type": "stream",
          "name": "stdout",
          "text": [
            "나는 조성원이고, 숭실대학교 학생입니다. 2021년부터 숭실대학교에 다닙니다\n"
          ]
        }
      ]
    },
    {
      "cell_type": "code",
      "source": [
        "print(f\"나는 {name}이고, 숭실대학교 {myclass}입니다. {mystartyear}년부터 숭실대학교에 다닙니다\")"
      ],
      "metadata": {
        "colab": {
          "base_uri": "https://localhost:8080/"
        },
        "id": "qrvEDkvG_zXk",
        "outputId": "d080f9ce-df25-48a9-a865-9864585e0827"
      },
      "execution_count": null,
      "outputs": [
        {
          "output_type": "stream",
          "name": "stdout",
          "text": [
            "나는 조성원이고, 숭실대학교 학생입니다. 2021년부터 숭실대학교에 다닙니다\n"
          ]
        }
      ]
    },
    {
      "cell_type": "code",
      "source": [
        "ssu_song.find('백두산')\n",
        "ssu_song.split()\n",
        "ssu_song.strip()\n",
        "# ssu_song.rstrip()\n",
        "# ssu_song.lstrip()"
      ],
      "metadata": {
        "colab": {
          "base_uri": "https://localhost:8080/",
          "height": 35
        },
        "id": "XQAryNvPACv2",
        "outputId": "8bfd57c1-1ab0-4712-f804-6d55ff536c37"
      },
      "execution_count": null,
      "outputs": [
        {
          "output_type": "execute_result",
          "data": {
            "text/plain": [
              "'이상을 우러르는 우리의 기상 저높은 백두산과 다름이 없고'"
            ],
            "application/vnd.google.colaboratory.intrinsic+json": {
              "type": "string"
            }
          },
          "metadata": {},
          "execution_count": 25
        }
      ]
    },
    {
      "cell_type": "code",
      "source": [
        "test_file = open('./test.txt', 'w')"
      ],
      "metadata": {
        "id": "pX7LPul0AKz8"
      },
      "execution_count": null,
      "outputs": []
    },
    {
      "cell_type": "code",
      "source": [
        "print(test_file.name)"
      ],
      "metadata": {
        "colab": {
          "base_uri": "https://localhost:8080/"
        },
        "id": "PvwPicT3AjKG",
        "outputId": "56013709-0ba0-4bde-9fac-846665f2bae9"
      },
      "execution_count": null,
      "outputs": [
        {
          "output_type": "stream",
          "name": "stdout",
          "text": [
            "./test.txt\n"
          ]
        }
      ]
    },
    {
      "cell_type": "code",
      "source": [
        "test_file.close()"
      ],
      "metadata": {
        "id": "nmi4Ku7FAoAA"
      },
      "execution_count": null,
      "outputs": []
    },
    {
      "cell_type": "code",
      "source": [
        "class Student:\n",
        "  __name = \"\"\n",
        "  __id = 0\n",
        "  __gpa = 0.0\n",
        "  __department = \"\"\n",
        "\n",
        "  def __init__(self, name,id, gpa, department):\n",
        "    self.__name = name\n",
        "    self.__id = id\n",
        "    self.__gpa = gpa\n",
        "    self.__department = department\n",
        "    \n",
        "  def set_name(self, name):\n",
        "    self.__name = name\n",
        "    \n",
        "  def set_id(self, id):\n",
        "    self.__id = id\n",
        "    \n",
        "  def set_gpa(self, gpa):\n",
        "    self.__gpa = gpa\n",
        "    \n",
        "  def set_department(self, department):\n",
        "    self.__department = department    \n",
        "\n",
        "  def get_name(self):\n",
        "    return self.__name  \n",
        "\n",
        "  def get_id(self):\n",
        "    return self.__id    \n",
        "\n",
        "  def get_gpa(self):\n",
        "    return self.__gpa\n",
        "\n",
        "  def get_department(self):\n",
        "    return self.__department\n",
        "\n",
        "  def toString(self):\n",
        "    return f'{self.__name}, {self.__id}, {self.__gpa}, {self.__department}'"
      ],
      "metadata": {
        "id": "zDbUPxP2Aqdr"
      },
      "execution_count": 31,
      "outputs": []
    },
    {
      "cell_type": "code",
      "source": [
        "Sungwon = Student('조성원', 20213094, 3.5, 'AI')"
      ],
      "metadata": {
        "id": "y046kO6BPTXQ"
      },
      "execution_count": 32,
      "outputs": []
    },
    {
      "cell_type": "code",
      "source": [
        "Sungwon.toString()"
      ],
      "metadata": {
        "colab": {
          "base_uri": "https://localhost:8080/",
          "height": 35
        },
        "id": "-HJcKxKlPanH",
        "outputId": "2c820de1-663c-437e-e9a1-286ac6a2f5ee"
      },
      "execution_count": 33,
      "outputs": [
        {
          "output_type": "execute_result",
          "data": {
            "text/plain": [
              "'조성원, 20213094, 3.5, AI'"
            ],
            "application/vnd.google.colaboratory.intrinsic+json": {
              "type": "string"
            }
          },
          "metadata": {},
          "execution_count": 33
        }
      ]
    },
    {
      "cell_type": "code",
      "source": [
        "list_sample = []\n",
        "for i in range(10):\n",
        "  list_sample.append(i)"
      ],
      "metadata": {
        "id": "SDW_19saPyNw"
      },
      "execution_count": 34,
      "outputs": []
    },
    {
      "cell_type": "code",
      "source": [
        "list_sample"
      ],
      "metadata": {
        "colab": {
          "base_uri": "https://localhost:8080/"
        },
        "id": "Js-ygyJ4QR-N",
        "outputId": "cb7aaad8-6ea8-4fbd-e95a-3093f16632ae"
      },
      "execution_count": 35,
      "outputs": [
        {
          "output_type": "execute_result",
          "data": {
            "text/plain": [
              "[0, 1, 2, 3, 4, 5, 6, 7, 8, 9]"
            ]
          },
          "metadata": {},
          "execution_count": 35
        }
      ]
    },
    {
      "cell_type": "code",
      "source": [
        "str_list = [item*2 if item%2 == 0 else item for item in list_sample]\n",
        "str_list"
      ],
      "metadata": {
        "colab": {
          "base_uri": "https://localhost:8080/"
        },
        "id": "7WCo0HQCQTMk",
        "outputId": "cc67f4ea-b880-4519-dd56-fa0a5a54417e"
      },
      "execution_count": 36,
      "outputs": [
        {
          "output_type": "execute_result",
          "data": {
            "text/plain": [
              "[0, 1, 4, 3, 8, 5, 12, 7, 16, 9]"
            ]
          },
          "metadata": {},
          "execution_count": 36
        }
      ]
    },
    {
      "cell_type": "code",
      "source": [
        "num_dict = {1: 100, 2: 200, 3: 300, 4: 400}\n",
        "num_dict_filtered = {k: v for k, v in num_dict.items() if k%2 == 0}\n",
        "num_dict_filtered"
      ],
      "metadata": {
        "colab": {
          "base_uri": "https://localhost:8080/"
        },
        "id": "52_RO-DXQf2v",
        "outputId": "43f43557-b80f-4b5c-c595-53ca3843edcb"
      },
      "execution_count": 38,
      "outputs": [
        {
          "output_type": "execute_result",
          "data": {
            "text/plain": [
              "{2: 200, 4: 400}"
            ]
          },
          "metadata": {},
          "execution_count": 38
        }
      ]
    },
    {
      "cell_type": "code",
      "source": [],
      "metadata": {
        "id": "iq9EELdkQrgO"
      },
      "execution_count": null,
      "outputs": []
    }
  ]
}