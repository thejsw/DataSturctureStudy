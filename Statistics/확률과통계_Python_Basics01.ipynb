{
  "nbformat": 4,
  "nbformat_minor": 0,
  "metadata": {
    "colab": {
      "provenance": [],
      "collapsed_sections": []
    },
    "kernelspec": {
      "name": "python3",
      "display_name": "Python 3"
    },
    "language_info": {
      "name": "python"
    }
  },
  "cells": [
    {
      "cell_type": "code",
      "execution_count": 2,
      "metadata": {
        "colab": {
          "base_uri": "https://localhost:8080/"
        },
        "id": "lLagBXlAoTXb",
        "outputId": "9965f393-3a20-4e75-bfd9-6f7678dd7d9b"
      },
      "outputs": [
        {
          "output_type": "stream",
          "name": "stdout",
          "text": [
            "sys.version_info(major=3, minor=7, micro=13, releaselevel='final', serial=0)\n"
          ]
        }
      ],
      "source": [
        "import sys\n",
        "print(sys.version_info)"
      ]
    },
    {
      "cell_type": "code",
      "source": [
        "print(\"Hello World\")\n",
        "\n",
        "\"\"\"\n",
        "여러줄\n",
        "주석을\n",
        "달 수\n",
        "있습니다\n",
        "\"\"\"\n",
        "\n",
        "# print(\"Hello World\")"
      ],
      "metadata": {
        "colab": {
          "base_uri": "https://localhost:8080/",
          "height": 54
        },
        "id": "l08HsAUOpJhI",
        "outputId": "2a018bed-a684-4d78-bf59-1f1d9f6fa2e6"
      },
      "execution_count": 4,
      "outputs": [
        {
          "output_type": "stream",
          "name": "stdout",
          "text": [
            "Hello World\n"
          ]
        },
        {
          "output_type": "execute_result",
          "data": {
            "text/plain": [
              "'\\n여러줄\\n주석을\\n달 수\\n있습니다\\n'"
            ],
            "application/vnd.google.colaboratory.intrinsic+json": {
              "type": "string"
            }
          },
          "metadata": {},
          "execution_count": 4
        }
      ]
    },
    {
      "cell_type": "code",
      "source": [
        "name = \"Jo Sungwon\"\n",
        "var1 = 100\n",
        "var2 = 100.1\n",
        "var3 = [100, 100]\n",
        "var4 = {1: 100, 2: 200}\n",
        "var5 = {100, 200, 300}"
      ],
      "metadata": {
        "id": "VCZqQxTTp8y4"
      },
      "execution_count": 9,
      "outputs": []
    },
    {
      "cell_type": "code",
      "source": [
        "print(10 + 4)\n",
        "print(10 - 4)\n",
        "print(10 * 4)\n",
        "print(10 % 4)\n",
        "print(10 // 4)\n",
        "print(10 ** 4)\n",
        "print((1 + 2 - 3) * 4)\n",
        "i = 1\n",
        "i += 1"
      ],
      "metadata": {
        "colab": {
          "base_uri": "https://localhost:8080/"
        },
        "id": "_D0eIQCot16B",
        "outputId": "811f33da-c62a-4c2a-8136-bd396b23e281"
      },
      "execution_count": 14,
      "outputs": [
        {
          "output_type": "stream",
          "name": "stdout",
          "text": [
            "14\n",
            "6\n",
            "40\n",
            "2\n",
            "2\n",
            "10000\n",
            "0\n"
          ]
        }
      ]
    },
    {
      "cell_type": "code",
      "source": [
        "simple_string = \"String, 스트링\"\n",
        "multiline_stirng = '''\n",
        "여러줄\n",
        "스트링을\n",
        "정의합시다\n",
        "'''\n",
        "multiline_string2 = \"개인적으로는 한 줄에 개행문자\\n을 쓰는 것을 더 선호합니다\"\n",
        "print(\"%s %s %s %s\" %(\"스트링을 출력합니다\", simple_string, multiline_stirng, multiline_string2))"
      ],
      "metadata": {
        "colab": {
          "base_uri": "https://localhost:8080/"
        },
        "id": "LkKzbXkauILd",
        "outputId": "eb766cf3-51fd-490e-cd67-68e909627e9c"
      },
      "execution_count": 15,
      "outputs": [
        {
          "output_type": "stream",
          "name": "stdout",
          "text": [
            "스트링을 출력합니다 String, 스트링 \n",
            "여러줄\n",
            "스트링을\n",
            "정의합시다\n",
            " 개인적으로는 한 줄에 개행문자\n",
            "을 쓰는 것을 더 선호합니다\n"
          ]
        }
      ]
    },
    {
      "cell_type": "code",
      "source": [
        " print(\"Hello World\", end=\"\\n\")\n",
        " print(\"Hello World\")"
      ],
      "metadata": {
        "colab": {
          "base_uri": "https://localhost:8080/"
        },
        "id": "V1DO1vZVuO-o",
        "outputId": "5923a7d4-32b2-4ec2-f5ee-8e9009a55d86"
      },
      "execution_count": 16,
      "outputs": [
        {
          "output_type": "stream",
          "name": "stdout",
          "text": [
            "Hello World\n",
            "Hello World\n"
          ]
        }
      ]
    },
    {
      "cell_type": "code",
      "source": [
        "class_list = [\"확률과통계\", \"자료구조\", \"알고리즘\", \"이산수학\"]\n",
        "print(class_list[0])\n",
        "\n",
        "class_list[0] = \"확통(스시소)\"\n",
        "print(class_list[0])\n",
        "\n",
        "print(class_list[1:3])"
      ],
      "metadata": {
        "colab": {
          "base_uri": "https://localhost:8080/"
        },
        "id": "A_mb6aidw5Mh",
        "outputId": "3aa56af4-0191-4528-9d79-96bb1d3579d3"
      },
      "execution_count": 20,
      "outputs": [
        {
          "output_type": "stream",
          "name": "stdout",
          "text": [
            "확률과통계\n",
            "확통(스시소)\n",
            "['자료구조', '알고리즘']\n"
          ]
        }
      ]
    },
    {
      "cell_type": "code",
      "source": [
        "homework_list = [\"확률과통계\", \"자료구조\", \"알고리즘\", \"이산수학\"]\n",
        "this_week = [class_list, homework_list]\n",
        "print(this_week)"
      ],
      "metadata": {
        "colab": {
          "base_uri": "https://localhost:8080/"
        },
        "id": "eIQdDHMqxM0p",
        "outputId": "a92ba216-b9c5-4c50-e4a8-2fc7b3c1aaa5"
      },
      "execution_count": 22,
      "outputs": [
        {
          "output_type": "stream",
          "name": "stdout",
          "text": [
            "[['확통(스시소)', '자료구조', '알고리즘', '이산수학'], ['확률과통계', '자료구조', '알고리즘', '이산수학']]\n"
          ]
        }
      ]
    },
    {
      "cell_type": "code",
      "source": [
        "homework_list.append(\"문제 4번 풀기\")\n",
        "homework_list.insert(1, \"아이디와 이메일 보내기\")\n",
        "homework_list.remove(\"아이디와 이메일 보내기\")\n",
        "print(homework_list)"
      ],
      "metadata": {
        "colab": {
          "base_uri": "https://localhost:8080/"
        },
        "id": "FB5Ouy9fyj3z",
        "outputId": "cbcb378b-ccdc-4dd5-a610-9487e6fe7a56"
      },
      "execution_count": 26,
      "outputs": [
        {
          "output_type": "stream",
          "name": "stdout",
          "text": [
            "['확률과통계', '아이디와 이메일 보내기', '아이디와 이메일 보내기', '자료구조', '알고리즘', '이산수학', '문제 4번 풀기', '문제 4번 풀기', '문제 4번 풀기', '문제 4번 풀기']\n"
          ]
        }
      ]
    },
    {
      "cell_type": "code",
      "source": [
        " sample_list = [\"A\", \"C\", \"D\", \"B\"]\n",
        " sorted(sample_list)\n",
        " del(sample_list[3])\n",
        " print(sample_list)"
      ],
      "metadata": {
        "colab": {
          "base_uri": "https://localhost:8080/"
        },
        "id": "d5cHHx-CzovA",
        "outputId": "c99e938f-6ec3-4557-8eaa-e4d4ca487a9c"
      },
      "execution_count": 30,
      "outputs": [
        {
          "output_type": "stream",
          "name": "stdout",
          "text": [
            "['A', 'C', 'D']\n"
          ]
        }
      ]
    },
    {
      "cell_type": "code",
      "source": [
        "sample_list[0][1] = \"폐강됨\"\n",
        "print(sample_list)"
      ],
      "metadata": {
        "colab": {
          "base_uri": "https://localhost:8080/",
          "height": 190
        },
        "id": "BbRd-pUr1SC8",
        "outputId": "f5bd2bd7-69c1-4f22-bef4-8ddde1b7ce7d"
      },
      "execution_count": 34,
      "outputs": [
        {
          "output_type": "error",
          "ename": "TypeError",
          "evalue": "ignored",
          "traceback": [
            "\u001b[0;31m---------------------------------------------------------------------------\u001b[0m",
            "\u001b[0;31mTypeError\u001b[0m                                 Traceback (most recent call last)",
            "\u001b[0;32m<ipython-input-34-1448413f631e>\u001b[0m in \u001b[0;36m<module>\u001b[0;34m\u001b[0m\n\u001b[0;32m----> 1\u001b[0;31m \u001b[0msample_list\u001b[0m\u001b[0;34m[\u001b[0m\u001b[0;36m0\u001b[0m\u001b[0;34m]\u001b[0m\u001b[0;34m[\u001b[0m\u001b[0;36m1\u001b[0m\u001b[0;34m]\u001b[0m \u001b[0;34m=\u001b[0m \u001b[0;34m\"폐강됨\"\u001b[0m\u001b[0;34m\u001b[0m\u001b[0;34m\u001b[0m\u001b[0m\n\u001b[0m\u001b[1;32m      2\u001b[0m \u001b[0mprint\u001b[0m\u001b[0;34m(\u001b[0m\u001b[0msample_list\u001b[0m\u001b[0;34m)\u001b[0m\u001b[0;34m\u001b[0m\u001b[0;34m\u001b[0m\u001b[0m\n",
            "\u001b[0;31mTypeError\u001b[0m: 'str' object does not support item assignment"
          ]
        }
      ]
    },
    {
      "cell_type": "code",
      "source": [
        "attendence_set = {\"Tom\", \"Mike\", \"Jane\"}\n",
        "print(type(attendence_set))\n",
        "print(attendence_set)"
      ],
      "metadata": {
        "colab": {
          "base_uri": "https://localhost:8080/"
        },
        "id": "9ycAboCq2GZz",
        "outputId": "934b3991-ab40-4b95-fb8f-a553c6788321"
      },
      "execution_count": 36,
      "outputs": [
        {
          "output_type": "stream",
          "name": "stdout",
          "text": [
            "<class 'set'>\n",
            "{'Mike', 'Jane', 'Tom'}\n"
          ]
        }
      ]
    },
    {
      "cell_type": "code",
      "source": [
        "student_number = {\"Tom\": 20212021, \"Mike\": 20212022, \"Jane\": 20213033}\n",
        "print(student_number.keys())\n",
        "print(student_number.values())\n",
        "print(student_number.items())"
      ],
      "metadata": {
        "colab": {
          "base_uri": "https://localhost:8080/"
        },
        "id": "EfLH_di520VM",
        "outputId": "e2716517-f93b-43fd-fab1-19cfd7e2eed9"
      },
      "execution_count": 37,
      "outputs": [
        {
          "output_type": "stream",
          "name": "stdout",
          "text": [
            "dict_keys(['Tom', 'Mike', 'Jane'])\n",
            "dict_values([20212021, 20212022, 20213033])\n",
            "dict_items([('Tom', 20212021), ('Mike', 20212022), ('Jane', 20213033)])\n"
          ]
        }
      ]
    },
    {
      "cell_type": "code",
      "source": [],
      "metadata": {
        "id": "PZYT74T73OgY"
      },
      "execution_count": null,
      "outputs": []
    }
  ]
}